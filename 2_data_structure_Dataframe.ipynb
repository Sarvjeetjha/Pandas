{
 "cells": [
  {
   "cell_type": "markdown",
   "metadata": {},
   "source": [
    "                     Datafarme  _Data structyre"
   ]
  },
  {
   "cell_type": "code",
   "execution_count": 2,
   "metadata": {},
   "outputs": [
    {
     "name": "stdout",
     "output_type": "stream",
     "text": [
      "   0\n",
      "0  1\n",
      "1  2\n",
      "2  3\n",
      "3  4\n",
      "4  5\n",
      "5  6\n",
      "6  7\n",
      "<class 'pandas.core.frame.DataFrame'>\n"
     ]
    }
   ],
   "source": [
    "import pandas as pd \n",
    "l=[1,2,3,4,5,6,7]\n",
    "var=pd.DataFrame(l)\n",
    "print(var)\n",
    "print(type(var))"
   ]
  },
  {
   "cell_type": "code",
   "execution_count": 5,
   "metadata": {},
   "outputs": [
    {
     "name": "stdout",
     "output_type": "stream",
     "text": [
      "   a  b\n",
      "0  1  1\n",
      "1  2  2\n",
      "2  3  3\n",
      "3  4  4\n",
      "4  5  5\n",
      "5  6  6\n",
      "6  7  7\n",
      "<class 'pandas.core.frame.DataFrame'>\n"
     ]
    }
   ],
   "source": [
    "import pandas as pd \n",
    "d={'a':[1,2,3,4,5,6,7],'b':[1,2,3,4,5,6,7]}\n",
    "var=pd.DataFrame(d)\n",
    "print(var)\n",
    "print(type(var))"
   ]
  },
  {
   "cell_type": "code",
   "execution_count": 4,
   "metadata": {},
   "outputs": [
    {
     "name": "stdout",
     "output_type": "stream",
     "text": [
      "   a\n",
      "0  1\n",
      "1  2\n",
      "2  3\n",
      "3  4\n",
      "4  5\n",
      "5  6\n",
      "6  7\n",
      "<class 'pandas.core.frame.DataFrame'>\n"
     ]
    }
   ],
   "source": [
    "import pandas as pd \n",
    "d={'a':[1,2,3,4,5,6,7],'b':[1,2,3,4,5,6,7],'c':(1,2,3,4,5,6,7)}\n",
    "var=pd.DataFrame(d,columns=['a'])\n",
    "print(var)\n",
    "print(type(var))"
   ]
  },
  {
   "cell_type": "code",
   "execution_count": 6,
   "metadata": {},
   "outputs": [
    {
     "name": "stdout",
     "output_type": "stream",
     "text": [
      "   a  c\n",
      "0  1  1\n",
      "1  2  2\n",
      "2  3  3\n",
      "3  4  4\n",
      "4  5  5\n",
      "5  6  6\n",
      "6  7  7\n",
      "<class 'pandas.core.frame.DataFrame'>\n"
     ]
    }
   ],
   "source": [
    "import pandas as pd \n",
    "d={'a':[1,2,3,4,5,6,7],'b':[1,2,3,4,5,6,7],'c':(1,2,3,4,5,6,7)}\n",
    "var=pd.DataFrame(d,columns=['a','c'])\n",
    "print(var)\n",
    "print(type(var))"
   ]
  },
  {
   "cell_type": "code",
   "execution_count": 10,
   "metadata": {},
   "outputs": [
    {
     "name": "stdout",
     "output_type": "stream",
     "text": [
      "   a  c\n",
      "a  1  1\n",
      "b  2  2\n",
      "c  3  3\n",
      "d  4  4\n",
      "e  5  5\n",
      "f  6  6\n",
      "g  7  7\n",
      "<class 'pandas.core.frame.DataFrame'>\n"
     ]
    }
   ],
   "source": [
    "import pandas as pd \n",
    "d={'a':[1,2,3,4,5,6,7],'b':[1,2,3,4,5,6,7],'c':(1,2,3,4,5,6,7)}\n",
    "var=pd.DataFrame(d,columns=['a','c'],index=['a','b','c','d','e','f','g'])  # changing index \n",
    "print(var)\n",
    "print(type(var))"
   ]
  },
  {
   "cell_type": "code",
   "execution_count": 14,
   "metadata": {},
   "outputs": [
    {
     "name": "stdout",
     "output_type": "stream",
     "text": [
      "   a  b  c\n",
      "0  1  1  1\n",
      "1  2  2  2\n",
      "2  3  3  3\n",
      "3  4  4  4\n",
      "4  5  5  5\n",
      "5  6  6  6\n",
      "6  7  7  7\n",
      "\n",
      "4\n"
     ]
    }
   ],
   "source": [
    "import pandas as pd \n",
    "d={'a':[1,2,3,4,5,6,7],'b':[1,2,3,4,5,6,7],'c':(1,2,3,4,5,6,7)}\n",
    "var=pd.DataFrame(d)\n",
    "print(var)\n",
    "print()\n",
    "print(var['a'][3])"
   ]
  },
  {
   "cell_type": "code",
   "execution_count": 3,
   "metadata": {},
   "outputs": [
    {
     "name": "stdout",
     "output_type": "stream",
     "text": [
      "   0  1  2  3  4  5  6    7\n",
      "0  1  2  3  4  5  6  7  NaN\n",
      "1  9  8  7  6  5  4  3  2.0\n",
      "2  1  2  3  4  5  6  7  NaN\n"
     ]
    }
   ],
   "source": [
    "import pandas as pd \n",
    "d=[[1,2,3,4,5,6,7],[9,8,7,6,5,4,3,2],(1,2,3,4,5,6,7)]\n",
    "var=pd.DataFrame(d)\n",
    "print(var)\n"
   ]
  },
  {
   "cell_type": "code",
   "execution_count": 4,
   "metadata": {},
   "outputs": [
    {
     "name": "stdout",
     "output_type": "stream",
     "text": [
      "   0  1  2  3  4  5  6    7\n",
      "a  1  2  3  4  5  6  7  NaN\n",
      "b  9  8  7  6  5  4  3  2.0\n",
      "c  1  2  3  4  5  6  7  NaN\n"
     ]
    }
   ],
   "source": [
    "import pandas as pd \n",
    "d=[[1,2,3,4,5,6,7],[9,8,7,6,5,4,3,2],(1,2,3,4,5,6,7)]\n",
    "var=pd.DataFrame(d,index=['a','b','c'])\n",
    "print(var)\n"
   ]
  },
  {
   "cell_type": "code",
   "execution_count": 20,
   "metadata": {},
   "outputs": [
    {
     "name": "stdout",
     "output_type": "stream",
     "text": [
      "   a  b  c\n",
      "0  1  1  1\n",
      "1  2  2  2\n",
      "2  3  3  3\n",
      "3  4  4  4\n",
      "4  5  5  5\n",
      "5  6  6  6\n",
      "6  7  7  7\n",
      "<class 'pandas.core.frame.DataFrame'>\n"
     ]
    }
   ],
   "source": [
    "import pandas as pd \n",
    "d={'a':pd.Series([1,2,3,4,5,6,7]),'b':pd.Series([1,2,3,4,5,6,7]),'c':pd.Series((1,2,3,4,5,6,7))}\n",
    "var=pd.DataFrame(d)\n",
    "print(var)\n",
    "print(type(var))"
   ]
  }
 ],
 "metadata": {
  "kernelspec": {
   "display_name": "Python 3",
   "language": "python",
   "name": "python3"
  },
  "language_info": {
   "codemirror_mode": {
    "name": "ipython",
    "version": 3
   },
   "file_extension": ".py",
   "mimetype": "text/x-python",
   "name": "python",
   "nbconvert_exporter": "python",
   "pygments_lexer": "ipython3",
   "version": "3.10.6"
  }
 },
 "nbformat": 4,
 "nbformat_minor": 2
}
